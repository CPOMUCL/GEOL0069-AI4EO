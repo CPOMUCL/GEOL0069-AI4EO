{
 "cells": [
  {
   "cell_type": "markdown",
   "metadata": {},
   "source": [
    "# Introduction to Intelligently Reinforced Image Segmentation (IRIS)\n",
    "\n",
    "Throughout this project, we have extensively utilised IRIS, a user-friendly, web-based Flask application developed by ESA-PhiLab, with special thanks to Alistair Francis whose guidance has been instrumental. IRIS has been indispensable in our workflow, particularly in the efficient generation of ground-truth training data for our machine learning tasks. Its intuitive 'click & train' functionality has greatly simplified the process of creating accurate masks for Earth observation datasets, enhancing our capabilities in dataset creation. You can access the original repo at [https://github.com/ESA-PhiLab/iris](https://github.com/ESA-PhiLab/iris).\n",
    "\n",
    "\n",
    "## Installation: Why Docker?\n",
    "\n",
    "The direct installation of Iris from the GitHub repository can be complex and time-consuming, requiring manual installation of dependencies and configuration setup. By leveraging Docker, users can easily deploy and run Iris in a containerized environment, eliminating the need for manual dependency management and providing a consistent and reproducible execution environment. Docker simplifies the deployment process, enhances portability across different machines, and ensures consistent behaviour, making it an ideal solution for users looking for a streamlined and hassle-free way to access and use the Iris application.\n",
    "\n",
    "## Using Docker to Access Iris - Prerequisites\n",
    "\n",
    "Before pulling the Iris Docker image, please ensure that you have the following prerequisites in place:\n",
    "\n",
    "1. **Docker Installation**: Docker needs to be installed on your machine. Docker provides platform-specific installers for Windows, macOS, and Linux. Follow the official [Docker installation guide](https://docs.docker.com/get-docker/) based on your operating system to install Docker Desktop or Docker Engine.\n",
    "   - Docker Installation Guide: [https://docs.docker.com/get-docker/](https://docs.docker.com/get-docker/)\n",
    "\n",
    "2. **Docker Account (Optional)**: If you plan to use Docker Hub, you may create a Docker account at [https://hub.docker.com/](https://hub.docker.com/). A Docker account is not mandatory but can be useful for managing images and repositories.\n",
    "   - Docker Hub: [https://hub.docker.com/](https://hub.docker.com/)\n",
    "\n",
    "> **Note**: If you have an antivirus application like F-Secure running on your device, it may interfere with the Docker application. In such cases, you might encounter issues when trying to open Docker or run Docker commands. To resolve this, you can try temporarily disabling the antivirus application or adding Docker to the list of trusted applications in your antivirus settings.\n",
    "\n",
    "Once you have completed these prerequisites, you can open Docker on your device and then proceed with pulling the Iris Docker image.\n",
    "\n",
    "## Pulling the Iris Docker Image\n",
    "\n",
    "To pull the Iris Docker image, follow these steps:\n",
    "\n",
    "1. Open a terminal or command prompt on your machine.\n",
    "2. Execute the following command to pull the Iris Docker image from Docker Hub:"
   ]
  },
  {
   "cell_type": "code",
   "execution_count": null,
   "metadata": {},
   "outputs": [],
   "source": [
    "docker pull totony4real/iris:1.0"
   ]
  },
  {
   "cell_type": "markdown",
   "metadata": {},
   "source": [
    "3. Wait for the Docker image to be downloaded. The progress will be dis- played in the terminal or command prompt.\n",
    "\n",
    "Once the Iris Docker image is successfully pulled, you are ready to run the Iris Docker container and access the Iris web interface.\n",
    "\n",
    "A toy example for you to use as data and configuration can be accessed [here](https://drive.google.com/drive/folders/1CmYglA5sbcYFLCUiA6iJQ7eiH8EWvl9p?usp=sharing). This dataset is from **Sentinel-3 OLCI** and corresponds to the following file:\n",
    "\n",
    "**S3A_OL_1_EFR____20180307T054004_20180307T054119_20180308T091959_0075_028_319_1620_LN1_O_NT_002.SEN3**\n",
    "\n",
    "### Visualising the Geo-Location of the Dataset\n",
    "\n",
    "A visualisation of the dataset's geographical location is shown below. You can interact with the map (e.g., zoom in/out, pan) to explore the area of interest.\n",
    "\n",
    "<div style=\"width: 100%; height: 600px;\">\n",
    "    <iframe src=\"_static/map_visualization_class1_S3.html\" width=\"100%\" height=\"100%\" frameborder=\"0\"></iframe>\n",
    "</div>\n",
    "\n",
    "This map is generated using the cell below:"
   ]
  },
  {
   "cell_type": "code",
   "execution_count": null,
   "metadata": {},
   "outputs": [],
   "source": [
    "import folium\n",
    "import json\n",
    "\n",
    "def plot_results_from_footprints(geofootprints):\n",
    "    \"\"\"\n",
    "    Generate a Folium map from a list of geo footprints and names.\n",
    "\n",
    "    Args:\n",
    "        geofootprints (list of dict): A list where each dict contains:\n",
    "            - \"GeoFootprint\": GeoJSON string representing the footprint.\n",
    "            - \"Name\": A string representing the name of the footprint.\n",
    "\n",
    "    Returns:\n",
    "        folium.Map: A Folium map with the geo footprints added.\n",
    "    \"\"\"\n",
    "    m = folium.Map(location=[0, 0], zoom_start=2)\n",
    "    for idx, entry in enumerate(geofootprints):\n",
    "        try:\n",
    "            geojson1 = json.loads(entry[\"GeoFootprint\"])  # Parse GeoJSON\n",
    "            folium.GeoJson(geojson1, name=entry[\"Name\"]).add_to(m)\n",
    "        except json.JSONDecodeError as e:\n",
    "            print(f\"Error decoding JSON for entry {idx}: {e}\")\n",
    "\n",
    "    folium.LayerControl().add_to(m)\n",
    "    return m\n",
    "\n",
    "\n",
    "# Example input: List of footprints and names\n",
    "geofootprints = [\n",
    "    {\n",
    "        \"Name\": \"S3A_OL_1_EFR____20180307T054004\",\n",
    "        \"GeoFootprint\": \"\"\"\n",
    "        {\"type\": \"Polygon\", \"coordinates\": [[[62.8229, 73.546], [65.0001, 73.5137], [67.1696, 73.4598], \n",
    "        [69.3311, 73.3834], [71.4562, 73.2855], [73.5652, 73.1656], [75.6288, 73.0254], [77.6662, 72.8648],\n",
    "        [79.6691, 72.6827], [81.6259, 72.4816], [83.5468, 72.2642], [85.4064, 72.0266], [87.2264, 71.7733], \n",
    "        [88.9874, 71.5012], [90.7074, 71.2128], [92.3621, 70.9086], [93.9801, 70.5923], [95.5412, 70.2614], \n",
    "        [97.0506, 69.9178], [98.515, 69.5596], [107.625, 73.0537], [106.068, 73.4784], [104.418, 73.8931], \n",
    "        [102.697, 74.2919], [100.878, 74.6768], [98.9889, 75.0482], [96.9979, 75.4018], [94.9093, 75.7395], \n",
    "        [92.7279, 76.054], [90.4438, 76.3521], [88.0671, 76.624], [85.6001, 76.8763], [83.037, 77.1047], \n",
    "        [80.3946, 77.3059], [77.6868, 77.4801], [74.8905, 77.6274], [72.0501, 77.745], [69.1422, 77.8334], \n",
    "        [66.2117, 77.8908], [63.2614, 77.9181], [62.8229, 73.546]]]}\n",
    "        \"\"\"\n",
    "    }\n",
    "]\n",
    "\n",
    "# Generate the map\n",
    "map_result = plot_results_from_footprints(geofootprints)\n",
    "\n",
    "# Save the map as an HTML file\n",
    "map_result.save(\"map_visualization_class1_S33.html\")\n",
    "\n",
    "print(\"Map has been saved as 'map_visualization_class1_S3.html'\")\n"
   ]
  },
  {
   "cell_type": "markdown",
   "metadata": {},
   "source": [
    "### Run IRIS with Docker\n",
    "\n",
    "For each task, we will provide you with the raw dataset (images) and the configuration file needed for setting up IRIS. After downloading the data and config files, run Iris using Docker with the following command:"
   ]
  },
  {
   "cell_type": "code",
   "execution_count": null,
   "metadata": {},
   "outputs": [],
   "source": [
    "docker run -p 80:5000 -v path_to_data:/dataset/ --rm -it totony4real/iris:1.0 label /dataset/config.json"
   ]
  },
  {
   "cell_type": "markdown",
   "metadata": {},
   "source": [
    "Replace `path_to_data` with the actual path to the directory where you saved the downloaded files.\n",
    "\n",
    "In the terminal, you will see the following appears after run the previous command:\n",
    "![Interface](./admin_interface.png)\n",
    "\n",
    "Here you need to set a password of your own.\n",
    "\n",
    "After setting the password, you will see:\n",
    "![Interface](./url_interface.png)\n",
    "\n",
    "Once the Docker container is running, access Iris by opening your web browser and navigating to [http://localhost:80](http://localhost:80). Note: do not open the link provided in the terminal, use [http://localhost:80](http://localhost:80) instead. For example, if the terminal asks you to open [http://127.0.0.1:5000](http://127.0.0.1:5000), you need to open [http://127.0.0.1:80](http://127.0.0.1:80) instead. The Iris web interface should be accessible, and you can start using the application with the provided data and configuration.\n",
    "\n",
    "Upon following the provided link, you'll be greeted with the following interface:\n",
    "![Interface](./iris_interface2.png)\n",
    "\n",
    "To get started, simply click the registration button, which will lead you to the screen shown below:\n",
    "![Interface](./iris_interface1.png)\n",
    "At this point, you can choose a username and password to your preference. Once you fill in these details, click the 'Register' button to complete the process. Subsequently, you'll be redirected to the application, ready to begin your session.\n",
    "\n"
   ]
  },
  {
   "cell_type": "markdown",
   "metadata": {},
   "source": [
    "## How to Use IRIS?\n",
    "\n",
    "You can find some general steps and tips for using IRIS by following these steps:\n",
    "\n",
    "1. **Start with the Interface**  \n",
    "   At the beginning, you will see an interface like this:  \n",
    "   ![Interface](./Interface.png)\n",
    "\n",
    "\n",
    "\n",
    "2. **Use the Pencil Tool**  \n",
    "   You can use the pencil tool to paint pixels anywhere within the rectangular region marked by red dotted lines. You can zoom in or out of the image by using the mouse scroll wheel or by using two fingers to swipe up or down on the touchpad. This allows you to adjust the image size according to your preference.\n",
    "\n",
    "3. **Change the Cursor Size**  \n",
    "   To change the cursor size, you can hold the Shift key while using the mouse scroll wheel or swiping up or down with two fingers on the touchpad. This action will increase or decrease the size of the cursor, allowing you to adjust it to your desired size.\n",
    "\n",
    "4. **Perform Classification**  \n",
    "   Once you have finished painting all the classes needed, IRIS is ready to perform classification and generate output masks.\n",
    "\n",
    "5. **Show Drawn Pixels**  \n",
    "   You can use the \"Show Drawn Pixels\" button to display only the pixels that you have drawn. This allows you to see which parts have been classified and processed by IRIS.\n",
    "\n",
    "6. **Save the Output Masks**  \n",
    "   To save the output masks generated by IRIS, you can click on the 'Save' button located at the top of the page. The output masks will be saved in the same folder that contains your data and config file. You can navigate to that folder on your device to locate the saved masks. You are also able to find the corresponding numpy arrays of the saved mask, which may be useful for further analysis.\n"
   ]
  },
  {
   "cell_type": "markdown",
   "metadata": {},
   "source": [
    "## Reuse of Mask\n",
    "As previously mentioned, IRIS is designed for generating ground-truth labels for machine learning datasets. Consequently, it is both practical and beneficial to reuse those saved masks for future tasks. Examples of this will be provided in subsequent chapters."
   ]
  },
  {
   "cell_type": "markdown",
   "metadata": {},
   "source": [
    "## Exercise of the week\n",
    "Produce masks of sub-regions of an image provided using IRIS.\n",
    "### Guidelines\n",
    "\n",
    "1. **Total Masks**: You are required to create a total of three (3) masks.\n",
    "   \n",
    "2. **Mask Coordinates**:\n",
    "   - For the first two masks, use the coordinates provided in the `config.json` file (`[100, 700, 300, 1000]`) and the additional set `[100, 400, 300, 700]`.\n",
    "   - For the third mask, tackle a more challenging scenario with the partially clouded region specified by `[100, 1000, 300, 1300]`. Remember to update these coordinates in the `config.json` file accordingly.\n",
    "   - Each mask you create will correspond to samples 1, 2, and 3, respectively.\n",
    "\n",
    "3. **Uploading Masks**:\n",
    "   - Once your masks are ready, upload them to the [submission folder](https://drive.google.com/drive/folders/19ZRSuH27B1gNYtItq4s7hQu4HXyUhDhw?usp=sharing).\n",
    "   - Name your files using the following convention, replacing 'studentnumber' with your actual student number:\n",
    "     - `IRISmask_image2_sample1_studentnumber`\n",
    "     - `IRISmask_image2_sample2_studentnumber`\n",
    "     - `IRISmask_image2_sample3_studentnumber`\n",
    "\n",
    "Please ensure you adhere to the naming convention and upload instructions to facilitate a smooth review process.\n",
    "\n",
    "\n"
   ]
  }
 ],
 "metadata": {
  "language_info": {
   "name": "python"
  },
  "orig_nbformat": 4
 },
 "nbformat": 4,
 "nbformat_minor": 2
}
