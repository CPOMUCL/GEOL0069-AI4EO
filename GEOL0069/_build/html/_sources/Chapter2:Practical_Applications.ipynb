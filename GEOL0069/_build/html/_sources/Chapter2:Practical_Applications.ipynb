{
 "cells": [
  {
   "cell_type": "markdown",
   "metadata": {},
   "source": [
    "# Applications of Gaussian Processes on Optimal Interpolation\n",
    "\n",
    "## Problem Redefinition\n",
    "\n",
    "## High-Level Python Code Application"
   ]
  }
 ],
 "metadata": {
  "language_info": {
   "name": "python"
  },
  "orig_nbformat": 4
 },
 "nbformat": 4,
 "nbformat_minor": 2
}
