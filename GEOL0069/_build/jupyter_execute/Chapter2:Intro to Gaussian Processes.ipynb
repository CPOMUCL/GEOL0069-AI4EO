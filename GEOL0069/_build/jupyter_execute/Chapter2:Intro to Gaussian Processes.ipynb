{
 "cells": [
  {
   "cell_type": "markdown",
   "metadata": {},
   "source": [
    "# Introduction to Gaussian Processes\n",
    "\n",
    "## Overview and Definition\n",
    "\n",
    "## Mathematical Framework\n",
    "\n"
   ]
  }
 ],
 "metadata": {
  "language_info": {
   "name": "python"
  }
 },
 "nbformat": 4,
 "nbformat_minor": 2
}