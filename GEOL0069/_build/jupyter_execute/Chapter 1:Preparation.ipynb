{
 "cells": [
  {
   "cell_type": "markdown",
   "metadata": {},
   "source": [
    "# Preparation\n",
    "\n",
    "Here we introduce a series of intro of setting up tools including Google Colab, Anaconda, Miniforage requirements that are needed before undertaking the tasks. \n",
    "\n",
    "## Google Colab\n",
    "\n",
    "Google Colab, short for Google Colaboratory, is a cloud-based service provided by Google that allows users to write, execute, and share Python code through a web browser. It offers free access to a machine equipped with a GPU, making it a popular choice for machine learning and data science projects. This is an user-freindly way to test, excecute machine learning tasks, without any environment set-up on your device. Below are the steps to get started with Google Colab:\n",
    "\n",
    "### Steps to Use Google Colab\n",
    "\n",
    "1. **Google Account**: Make sure you have a Google account. If not, create one.\n",
    "2. **Access Colab**: Open your web browser and go to [Google Colab](https://colab.research.google.com/).\n",
    "3. **New Notebook**: Click on `File` -> `New notebook` to create a new Python notebook.\n",
    "4. **Run Code**: Write your Python code in the cells and click the play button to execute.\n",
    "5. **Upload Data**: You can upload data files by clicking on the folder icon in the sidebar and then clicking on the upload button.\n",
    "6. **Save Notebook**: You can save your notebook to Google Drive by clicking `File` -> `Save`.\n",
    "7. **Share Notebook**: Click on the `Share` button to share your notebook with others.\n",
    "8. **GPU Access**: To enable GPU, go to `Runtime` -> `Change runtime type` -> Select `GPU` from the Hardware accelerator dropdown.\n",
    "\n",
    "It is important to note that you can mount your drive to your google colab file and you will have access to the data stored in your google drive in your colab notebook. \n",
    "\n",
    "### Google Drive\n",
    "For chapter 1, all the necessary code and data can be assessed from this folder on [Google Drive](https://drive.google.com/drive/folders/11ZUsqtzzZ6c_UArYvX_5nFU4HDMDDVqX?usp=sharing)"
   ]
  }
 ],
 "metadata": {
  "language_info": {
   "name": "python"
  }
 },
 "nbformat": 4,
 "nbformat_minor": 2
}