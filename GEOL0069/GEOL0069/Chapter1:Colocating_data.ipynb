{
 "cells": [
  {
   "cell_type": "markdown",
   "metadata": {},
   "source": [
    "# Colocate Sentinel-2 and Sentinel-3 Imagery\n",
    "\n",
    "This week, we'll proceed with the task initiated in Week 5: aligning and colocating Sentinel-2 and Sentinel-3 imagery. Our goal is to refine the colocated dataset, preparing it for further analysis.\n",
    "\n",
    "The figure below shows the Sentinel-3 (blue) and Sentinel-2 (orange) location corresponding to the 2019-03-01 images analysed during previous weeks.\n",
    "![Colocate](./colocate.png)\n",
    "\n",
    "\n",
    "## Step 1: Load S3 and S2 images sample data"
   ]
  },
  {
   "cell_type": "code",
   "execution_count": null,
   "metadata": {},
   "outputs": [],
   "source": [
    "#The subset of data satisfy condition = (x_s3 > 360000) & (x_s3 < 380000) & (y_s3 > 7800000) & (y_s3 < 7820000)\n",
    "#See week5 notebooks for more information\n",
    "\n",
    "\n",
    "import numpy as np\n",
    "path = '/content/drive/MyDrive/Teaching_Michel/GEOL0069/StudentFolder/Week_4/' # You need to specify the path\n",
    "\n",
    "# x_s3=np.load(path+'x_s3.npy')\n",
    "# y_s3=np.load(path+'y_s3.npy')\n",
    "# reshaped_array=np.load(path+'reshaped_array.npy')\n",
    "x_s3_condition=np.load(path+'x_s3_condition.npy')\n",
    "y_s3_condition=np.load(path+'y_s3_condition.npy')\n",
    "reshaped_array_condition=np.load(path+'reshaped_array_condition.npy')\n",
    "\n",
    "#Here I apply an artificial offset to see if I can retrieve it later with the autocorrelation code\n",
    "# Roll x_s3 array by 10 grids in the x-direction\n",
    "# reshaped_array_rolled = np.roll(reshaped_array, 3, axis=0)\n",
    "# Roll x_s3_rolled array by -5 grids in the y-direction\n",
    "# reshaped_array_rolled = np.roll(reshaped_array_rolled, -5, axis=1)\n",
    "\n",
    "x_s2_condition=np.load(path+'x_s2_condition.npy')\n",
    "y_s2_condition=np.load(path+'y_s2_condition.npy')\n",
    "band_stack_condition=np.load(path+'band_stack_condition.npy')\n",
    "# x_s2=np.load(path+'x_s2.npy')\n",
    "# y_s2=np.load(path+'y_s2.npy')\n",
    "# band_stack=np.load(path+'band_stack.npy')"
   ]
  },
  {
   "cell_type": "markdown",
   "metadata": {},
   "source": [
    "## Step 2: Label S2 pixels (See week 4 on unsupervised classification)\n",
    "For the code below, we use K-Means clustering to get the labels of Sentinel-2 image and we will use them to generate part of the training data."
   ]
  },
  {
   "cell_type": "code",
   "execution_count": null,
   "metadata": {},
   "outputs": [],
   "source": [
    "import numpy as np\n",
    "from sklearn.cluster import KMeans\n",
    "\n",
    "\n",
    "# Reshape the data into a column vector if needed\n",
    "temp = band_stack_condition.reshape(-1, 1)\n",
    "\n",
    "# Initialize KMeans model with 2 clusters\n",
    "kmeans = KMeans(n_clusters=2)\n",
    "\n",
    "# Fit the model to your data\n",
    "kmeans.fit(temp)\n",
    "\n",
    "# Get the labels assigned by KMeans\n",
    "labels = kmeans.labels_\n",
    "\n",
    "print(labels)\n"
   ]
  },
  {
   "cell_type": "markdown",
   "metadata": {},
   "source": [
    "## Step 3: Find collocated pixels using KDTree"
   ]
  },
  {
   "cell_type": "code",
   "execution_count": null,
   "metadata": {},
   "outputs": [],
   "source": [
    "from scipy.spatial import cKDTree\n",
    "import numpy as np\n",
    "import matplotlib.pyplot as plt\n",
    "from scipy.interpolate import griddata\n",
    "\n",
    "# Scatter input values\n",
    "# condition = (x_s3 > 360000) & (x_s3 < 380000) & (y_s3 > 7800000) & (y_s3 < 7820000)\n",
    "# x_s3_condition, y_s3_condition = x_s3[condition], y_s3[condition]\n",
    "\n",
    "\n",
    "# Define a KD-tree using x_s2_condition and y_s2_condition\n",
    "tree = cKDTree(list(zip(x_s2_condition, y_s2_condition)))\n",
    "\n",
    "# Query the tree to find all points within x_s3_condition and y_s3_condition grids\n",
    "ss3=1\n",
    "indices_within_grid = tree.query_ball_point(list(zip(x_s3_condition[::ss3], y_s3_condition[::ss3])), r=300.0)\n",
    "\n",
    "# cKDTree.query(self, x, k=1, eps=0, p=2, distance_upper_bound=np.inf, workers=1)#\n",
    "\n"
   ]
  },
  {
   "cell_type": "code",
   "execution_count": null,
   "metadata": {},
   "outputs": [],
   "source": [
    "#And here they are plotted\n",
    "index_s3=1200\n",
    "plt.scatter(x_s2_condition[indices_within_grid[index_s3]],y_s2_condition[indices_within_grid[index_s3]],c=band_stack_condition[indices_within_grid[index_s3]])#,vmin=0.,vmax=1)\n",
    "plt.colorbar()"
   ]
  },
  {
   "cell_type": "code",
   "execution_count": null,
   "metadata": {},
   "outputs": [],
   "source": [
    "#Here we plot the labels\n",
    "index_s3=1200\n",
    "plt.scatter(x_s2_condition[indices_within_grid[index_s3]],y_s2_condition[indices_within_grid[index_s3]],c=labels[indices_within_grid[index_s3]], cmap='Blues_r')#,vmin=0.,vmax=1)\n",
    "plt.colorbar()"
   ]
  },
  {
   "cell_type": "code",
   "execution_count": null,
   "metadata": {},
   "outputs": [],
   "source": [
    "zs2avg=[]\n",
    "for i in range(len(x_s3_condition)):\n",
    "      zs2avg.append(np.mean(band_stack_condition[indices_within_grid[i]]))\n",
    "      # zs2avg.append(np.mean(band_stack_condition[indices_within_grid[i]<3996001]))\n",
    "\n"
   ]
  },
  {
   "cell_type": "code",
   "execution_count": null,
   "metadata": {},
   "outputs": [],
   "source": [
    "SICavg=[]\n",
    "for i in range(len(x_s3_condition)):\n",
    "      SICavg.append(np.mean(labels[indices_within_grid[i]]))\n",
    "      # zs2avg.append(np.mean(band_stack_condition[indices_within_grid[i]<3996001]))\n",
    "\n"
   ]
  },
  {
   "cell_type": "markdown",
   "metadata": {},
   "source": [
    "Now, having processed the data, you're ready to save it for utilisation in subsequent notebooks."
   ]
  }
 ],
 "metadata": {
  "language_info": {
   "name": "python"
  },
  "orig_nbformat": 4
 },
 "nbformat": 4,
 "nbformat_minor": 2
}
