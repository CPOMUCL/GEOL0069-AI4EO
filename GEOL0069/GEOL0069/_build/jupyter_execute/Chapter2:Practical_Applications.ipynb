{
 "cells": [
  {
   "cell_type": "markdown",
   "metadata": {},
   "source": [
    "# Applications of Gaussian Processes on Optimal Interpolation\n",
    "\n",
    "## Problem Redefinition\n",
    "\n",
    "## High-Level Python Code Application"
   ]
  }
 ],
 "metadata": {
  "language_info": {
   "name": "python"
  }
 },
 "nbformat": 4,
 "nbformat_minor": 2
}