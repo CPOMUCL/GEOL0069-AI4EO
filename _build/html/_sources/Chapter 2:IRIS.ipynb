{
 "cells": [
  {
   "cell_type": "markdown",
   "metadata": {},
   "source": [
    "# Introduction to Intelligently Reinforced Image Segmentation (IRIS)\n",
    "\n",
    "IRIS is a web-based Flask app which outputs a mask of the corresponding imagery. It is intended for the use of generating ground-truth training data for machine learning tasks. It is user-friendly as it offers quick click&train feature for creating masks.\n",
    "\n",
    "## Why Docker?\n",
    "\n",
    "The direct installation of Iris from the GitHub repository can be complex and time-consuming, requiring manual installation of dependencies and configuration setup. By leveraging Docker, users can easily deploy and run Iris in a containerized environment, eliminating the need for manual dependency management and providing a consistent and reproducible execution environment. Docker simplifies the deployment process, enhances portability across different machines, and ensures consistent behaviour, making it an ideal solution for users looking for a streamlined and hassle-free way to access and use the Iris application.\n",
    "\n",
    "## IRIS\n",
    "\n",
    "*Content for the IRIS section goes here.*\n",
    "\n",
    "## Using Docker to Access Iris - Prerequisites\n",
    "\n",
    "Before pulling the Iris Docker image, please ensure that you have the following prerequisites in place:\n",
    "\n",
    "1. **Docker Installation**: Docker needs to be installed on your machine. Docker provides platform-specific installers for Windows, macOS, and Linux. Follow the official [Docker installation guide](https://docs.docker.com/get-docker/) based on your operating system to install Docker Desktop or Docker Engine.\n",
    "   - Docker Installation Guide: [https://docs.docker.com/get-docker/](https://docs.docker.com/get-docker/)\n",
    "\n",
    "2. **Docker Account (Optional)**: If you plan to use Docker Hub, you may create a Docker account at [https://hub.docker.com/](https://hub.docker.com/). A Docker account is not mandatory but can be useful for managing images and repositories.\n",
    "   - Docker Hub: [https://hub.docker.com/](https://hub.docker.com/)\n",
    "\n",
    "> **Note**: If you have an antivirus application like F-Secure running on your device, it may interfere with the Docker application. In such cases, you might encounter issues when trying to open Docker or run Docker commands. To resolve this, you can try temporarily disabling the antivirus application or adding Docker to the list of trusted applications in your antivirus settings.\n",
    "\n",
    "Once you have completed these prerequisites, you can open Docker on your device and then proceed with pulling the Iris Docker image.\n",
    "\n",
    "## Pulling the Iris Docker Image\n",
    "\n",
    "To pull the Iris Docker image, follow these steps:\n",
    "\n",
    "1. Open a terminal or command prompt on your machine.\n",
    "2. Execute the following command to pull the Iris Docker image from Docker Hub:\n",
    "   docker pull totony4real/iris:1.0"
   ]
  },
  {
   "cell_type": "code",
   "execution_count": null,
   "metadata": {},
   "outputs": [],
   "source": [
    "docker pull totony4real/iris:1.0"
   ]
  }
 ],
 "metadata": {
  "language_info": {
   "name": "python"
  },
  "orig_nbformat": 4
 },
 "nbformat": 4,
 "nbformat_minor": 2
}
