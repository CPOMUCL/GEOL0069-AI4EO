{
 "cells": [
  {
   "cell_type": "markdown",
   "metadata": {},
   "source": [
    "# Chapter 1: Sea-ice and Lead Classification with Vision Transformer\n",
    "Here we put introduction to this chapter overall. Contents of each sections, etc.\n",
    "\n",
    "## Intro to Sea-ice & Lead Classification\n",
    "Here we put intro to the specific tasks overall\n",
    "\n",
    "## Intro to Vision Transformers\n",
    "Here we put intro to the specific AI methods.\n"
   ]
  },
  {
   "cell_type": "code",
   "execution_count": null,
   "metadata": {},
   "outputs": [],
   "source": [
    "import numpy as np\n",
    "import tensorflow as tf\n",
    "\n",
    "\n",
    "from tensorflow import keras\n",
    "from tensorflow.keras import layers\n",
    "import tensorflow_addons as tfa"
   ]
  }
 ],
 "metadata": {
  "language_info": {
   "name": "python"
  },
  "orig_nbformat": 4
 },
 "nbformat": 4,
 "nbformat_minor": 2
}
