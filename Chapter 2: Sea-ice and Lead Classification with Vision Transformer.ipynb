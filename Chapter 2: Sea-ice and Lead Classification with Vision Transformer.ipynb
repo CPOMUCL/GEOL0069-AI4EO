{
 "cells": [
  {
   "cell_type": "markdown",
   "metadata": {},
   "source": [
    "# Sea-ice and Lead Classification \n",
    "\n",
    "## Intro to Sea-ice & Lead Classification\n",
    "\n",
    "### Definition and Importance\n",
    "\n",
    "Sea ice leads are narrow, linear fractures or openings in sea ice that form when the ice is broken by the movement of ocean waters or by the stress induced by wind and temperature changes. These leads can vary in size, ranging from a few meters to several kilometers in width, and can extend for hundreds of kilometers. They play a crucial role in the polar climate system and are vital for marine navigation and ecosystem dynamics.\n",
    "\n",
    "(Here we may put some images of sea-ice/leads)\n",
    "\n",
    "Sea ice leads are important for several reasons:\n",
    "\n",
    "- **Heat Exchange:** They act as a gateway for the exchange of heat, moisture, and momentum between the ocean and the atmosphere, influencing weather and climate patterns.\n",
    "- **Marine Life:** Sea ice leads are essential for various marine species, providing access to the surface for air-breathing animals like seals and serving as feeding grounds for polar bears.\n",
    "- **Navigation:** For human activities, they offer potential navigation routes and access to remote polar regions.\n",
    "- **Carbon Cycle:** They contribute to the oceanic uptake of atmospheric CO2, playing a role in the global carbon cycle.\n",
    "\n",
    "### Introduction to SAR and OLCI Datasets\n",
    "\n",
    "The datasets utilised in this study primarily originate from Sentinel-3 satellites, featuring co-located Synthetic Aperture Radar (SAR) altimetry and the Ocean and Land Colour Instrument (OLCI). \n",
    "\n",
    "#### Synthetic Aperture Radar Altimetry (SRAL)\n",
    "SRAL represents a significant advancement in radar technology, enabling detailed surface elevation measurements, especially over dynamic terrains like polar regions. It synthesizes return signals from multiple pulses to capture fine-scale features, such as leads in sea ice, playing a crucial role in understanding phenomena like sea level rise, ocean circulation, and ice dynamics.\n",
    "\n",
    "#### Ocean and Land Colour Instrument (OLCI)\n",
    "OLCI is a state-of-the-art imaging spectrometer aboard Sentinel-3, capturing high-resolution optical imagery across 21 distinct bands, ranging from the visible to the near-infrared spectrum. It offers detailed observations of various geographical features and is pivotal for applications like monitoring water quality, assessing vegetation health, analyzing land cover changes, and detecting environmental anomalies. The integration of OLCI with SRAL enhances monitoring capabilities, especially in polar regions.\n",
    "\n",
    "The combination of SRAL and OLCI datasets provides a comprehensive view of Earth's ecosystems and surface features, enabling the validation of surface classification algorithms and exploration of novel applications in polar region studies.\n"
   ]
  },
  {
   "cell_type": "markdown",
   "metadata": {},
   "source": [
    "## Intro to AI Techniques\n",
    "In this section, we will introduce several AI/machine learning techniques that could be applied to the Sea-ice/Leads classification task. We aim to give you some general understanding on the mechanisms of these techniques, and how we can apply them practically in Python. We will start with simple examples and then apply on our SAR/OLCI datasets.\n",
    "\n",
    "### Random Forest\n",
    "\n",
    "Random Forest is a versatile ensemble learning method, extensively used for both classification and regression tasks. This method is rooted in tree-based modeling, where the input space is systematically divided into axis-aligned cuboid regions, each assigned a simplistic model, often a constant value. The essence of Random Forest lies in constructing a plethora of decision trees during the training phase. For classification tasks, the output is determined by the mode of the classes represented by individual trees, while for regression, it is the mean prediction of the trees. \n",
    "\n",
    "One of the key strengths of Random Forest is its ability to mitigate the common pitfall of decision trees—overfitting to the training set. By aggregating the results of multiple decision trees, each with its unique quirks and biases, Random Forest achieves a balance, rendering the model more robust and less sensitive to noise in the training data. This ensemble approach typically results in a model with enhanced predictive accuracy and stability across diverse datasets.\n",
    "\n",
    "#### An Example of Application in Python:\n"
   ]
  },
  {
   "cell_type": "code",
   "execution_count": null,
   "metadata": {},
   "outputs": [],
   "source": [
    "from sklearn.ensemble import RandomForestClassifier\n",
    "\n",
    "# Initialise the model with n_estimators specifying the number of trees in the forest\n",
    "clf = RandomForestClassifier(n_estimators=100)\n",
    "\n",
    "# Fit the model to your training data\n",
    "clf.fit(X_train, y_train)\n",
    "\n",
    "# Predict the classes of the test data\n",
    "y_pred = clf.predict(X_test)"
   ]
  },
  {
   "cell_type": "markdown",
   "metadata": {},
   "source": [
    "### Convolutional Neural Networks (CNNs)\n",
    "Convolutional Neural Networks (CNNs) are a specialised kind of neural networks designed explicitly for processing grid-like data structures, most commonly images. CNNs have been instrumental in the field of computer vision, demonstrating remarkable success in image recognition, classification, and various other tasks.\n",
    "\n",
    "A typical CNN is composed of a series of layers, each designed to recognise different features in the input data. These layers include convolutional layers, pooling layers, and fully connected layers:\n",
    "\n",
    "- **Convolutional Layers:** These layers apply a convolution operation to the input, passing the result to the next layer. This operation allows the network to focus on local regions of the input data, detecting patterns such as edges, corners, and textures.\n",
    "- **Pooling Layers:** Pooling layers reduce the spatial dimensions of the input (width & height), which helps in reducing computation and also in making the detection of features invariant to scale and orientation changes.\n",
    "- **Fully Connected Layers:** In the end, fully connected layers are used for classifying the detected features into various classes based on the training dataset.\n",
    "Several deep learning frameworks are available, including TensorFlow and PyTorch, among others. For this work, we will primarily use the Keras framework with TensorFlow as the backend."
   ]
  },
  {
   "cell_type": "code",
   "execution_count": null,
   "metadata": {},
   "outputs": [],
   "source": [
    "import tensorflow as tf\n",
    "from tensorflow.keras import layers, models\n",
    "\n",
    "# Define the model\n",
    "model = models.Sequential()\n",
    "model.add(layers.Conv2D(32, (3, 3), activation='relu', input_shape=(64, 64, 3)))\n",
    "model.add(layers.MaxPooling2D((2, 2)))\n",
    "# Add additional convolutional and pooling layers as needed\n",
    "# ...\n",
    "\n",
    "# Add dense layers for classification\n",
    "model.add(layers.Flatten())\n",
    "model.add(layers.Dense(64, activation='relu'))\n",
    "model.add(layers.Dense(10, activation='softmax'))  # 10 is the number of classes\n",
    "\n",
    "# Compile and train the model\n",
    "model.compile(optimizer='adam',\n",
    "              loss='sparse_categorical_crossentropy',\n",
    "              metrics=['accuracy'])\n",
    "model.fit(X_train, y_train, epochs=10, validation_data=(X_val, y_val))"
   ]
  },
  {
   "cell_type": "markdown",
   "metadata": {},
   "source": [
    "### Vision Transformers (ViTs)\n",
    "Transformer was original introduced in a paper called 'Attention is All You Need' by "
   ]
  }
 ],
 "metadata": {
  "kernelspec": {
   "display_name": "Python 3.10.5 ('env_tf')",
   "language": "python",
   "name": "python3"
  },
  "language_info": {
   "codemirror_mode": {
    "name": "ipython",
    "version": 3
   },
   "file_extension": ".py",
   "mimetype": "text/x-python",
   "name": "python",
   "nbconvert_exporter": "python",
   "pygments_lexer": "ipython3",
   "version": "3.10.5"
  },
  "orig_nbformat": 4,
  "vscode": {
   "interpreter": {
    "hash": "2aa161f8472aa0281d61d11b80e2921984e345252ab2cc7bd9b86d7397c02495"
   }
  }
 },
 "nbformat": 4,
 "nbformat_minor": 2
}
